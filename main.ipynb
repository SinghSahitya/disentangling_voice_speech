{
 "cells": [
  {
   "cell_type": "code",
   "execution_count": 1,
   "metadata": {},
   "outputs": [],
   "source": [
    "import pickle\n",
    "import os\n",
    "import torch\n",
    "import torch.nn as nn\n",
    "from torch.utils.data import DataLoader\n",
    "from sklearn.model_selection import train_test_split\n",
    "from sklearn.metrics import accuracy_score"
   ]
  },
  {
   "cell_type": "code",
   "execution_count": 15,
   "metadata": {},
   "outputs": [],
   "source": [
    "# Load the preprocessed data\n",
    "def load_data(file_path='iemocap_data.pkl'):\n",
    "    with open(file_path, 'rb') as f:\n",
    "        emotion_data = pickle.load(f)\n",
    "    \n",
    "    mfcc_features = [item[0] for item in emotion_data]  # MFCC features\n",
    "    emotion_labels = [item[2] for item in emotion_data]  # Emotion labels\n",
    "    \n",
    "    # Updated emotion mapping with all possible IEMOCAP labels\n",
    "    emotion_mapping = {'neu': 0, 'happy': 1, 'sad': 2, 'ang': 3, 'exc': 4, 'fru': 5, 'sur': 6}\n",
    "    \n",
    "    # Filter out undefined emotions (e.g., 'xxx') and map only valid labels\n",
    "    mfcc_features_filtered = []\n",
    "    emotion_labels_filtered = []\n",
    "    \n",
    "    for mfcc, emotion in zip(mfcc_features, emotion_labels):\n",
    "        if emotion in emotion_mapping:  # Only map if the emotion is valid\n",
    "            mfcc_features_filtered.append(mfcc)\n",
    "            emotion_labels_filtered.append(emotion_mapping[emotion])\n",
    "    \n",
    "    # Split dataset into train and test sets (80% train, 20% test)\n",
    "    mfcc_train, mfcc_test, emotion_train, emotion_test = train_test_split(\n",
    "        mfcc_features_filtered, emotion_labels_filtered, test_size=0.2, random_state=42)\n",
    "    \n",
    "    return mfcc_train, mfcc_test, emotion_train, emotion_test\n"
   ]
  },
  {
   "cell_type": "code",
   "execution_count": 4,
   "metadata": {},
   "outputs": [],
   "source": [
    "class IEMOCAPDataset(torch.utils.data.Dataset):\n",
    "    def __init__(self, mfcc_features, emotion_labels):\n",
    "        self.mfcc_features = mfcc_features\n",
    "        self.emotion_labels = emotion_labels\n",
    "    \n",
    "    def __len__(self):\n",
    "        return len(self.mfcc_features)\n",
    "    \n",
    "    def __getitem__(self, idx):\n",
    "        mfcc_tensor = torch.tensor(self.mfcc_features[idx], dtype=torch.float32)\n",
    "        label = torch.tensor(self.emotion_labels[idx], dtype=torch.long)\n",
    "        return mfcc_tensor, label"
   ]
  },
  {
   "cell_type": "markdown",
   "metadata": {},
   "source": [
    "Model Architecture"
   ]
  },
  {
   "cell_type": "code",
   "execution_count": 60,
   "metadata": {},
   "outputs": [],
   "source": [
    "import torch\n",
    "from torch import nn\n",
    "class Encoder(nn.Module):\n",
    "    def __init__(self, input_dim, hidden_dim):\n",
    "        super(Encoder, self).__init__()\n",
    "        # Backbone network to extract frame-level features from MFCCs\n",
    "        self.conv_layers = nn.Sequential(\n",
    "            nn.Conv1d(in_channels=input_dim, out_channels=hidden_dim, kernel_size=5, stride=1, padding=2),\n",
    "            nn.ReLU(),\n",
    "            nn.BatchNorm1d(hidden_dim),\n",
    "            nn.Conv1d(in_channels=hidden_dim, out_channels=hidden_dim, kernel_size=5, stride=1, padding=2),\n",
    "            nn.ReLU(),\n",
    "            nn.BatchNorm1d(hidden_dim)\n",
    "        )\n",
    "\n",
    "        # Fully connected layers to compress frame-level features\n",
    "        self.fc = nn.Sequential(\n",
    "            nn.Linear(hidden_dim, 256),\n",
    "            nn.ReLU(),\n",
    "            nn.Linear(256, 128)\n",
    "        )\n",
    "\n",
    "    def forward(self, x):\n",
    "        # Print shape for debugging\n",
    "\n",
    "\n",
    "        # Transpose input to (batch_size, input_dim, time_steps) for Conv1d\n",
    "        # (batch_size, input_dim, time_steps)\n",
    "\n",
    "        # Print shape after transpose for debugging\n",
    "\n",
    "        # Pass through Conv1D layers\n",
    "        conv_out = self.conv_layers(x)  # (batch_size, hidden_dim, time_steps)\n",
    "\n",
    "        # Take mean over time axis to aggregate time-wise features\n",
    "        conv_out = torch.mean(conv_out, dim=2)  # (batch_size, hidden_dim)\n",
    "\n",
    "        # Pass through fully connected layers\n",
    "        frame_level_features = self.fc(conv_out)  # (batch_size, 128)\n",
    "        return frame_level_features\n",
    "\n",
    "\n",
    "\n",
    "\n",
    "# VAE class shared by all layers\n",
    "class VAE(nn.Module):\n",
    "    def __init__(self, input_dim, latent_dim):\n",
    "        super(VAE, self).__init__()\n",
    "        self.input_dim = input_dim\n",
    "        self.latent_dim = latent_dim\n",
    "        \n",
    "        # Encoder\n",
    "        self.encoder = nn.Sequential(\n",
    "            nn.Linear(input_dim, 512),\n",
    "            nn.ReLU(),\n",
    "            nn.Linear(512, 256),\n",
    "            nn.ReLU(),\n",
    "            nn.Linear(256, 2 * latent_dim)  # Mean and log-variance\n",
    "        )\n",
    "        \n",
    "        # Decoder\n",
    "        self.decoder = nn.Sequential(\n",
    "            nn.Linear(latent_dim, 256),\n",
    "            nn.ReLU(),\n",
    "            nn.Linear(256, 512),\n",
    "            nn.ReLU(),\n",
    "            nn.Linear(512, input_dim),\n",
    "            nn.Sigmoid()  # To reconstruct the input features\n",
    "        )\n",
    "    \n",
    "    def reparameterize(self, mu, logvar):\n",
    "        std = torch.exp(0.5 * logvar)\n",
    "        eps = torch.randn_like(std)\n",
    "        return mu + eps * std\n",
    "    \n",
    "    def forward(self, x):\n",
    "        # Encoder\n",
    "        mu_logvar = self.encoder(x).view(-1, 2, self.latent_dim)\n",
    "        mu = mu_logvar[:, 0, :]  # Mean\n",
    "        logvar = mu_logvar[:, 1, :]  # Log-variance\n",
    "        \n",
    "        # Reparameterization trick\n",
    "        z = self.reparameterize(mu, logvar)\n",
    "        \n",
    "        # Decoder\n",
    "        reconstructed_x = self.decoder(z)\n",
    "        return reconstructed_x, mu, logvar\n",
    "\n",
    "# Layer 1: Precursor Speaker Representation\n",
    "class PrecursorSpeakerLayer(nn.Module):\n",
    "    def __init__(self, input_dim, latent_dim):\n",
    "        super(PrecursorSpeakerLayer, self).__init__()\n",
    "        self.vae = VAE(input_dim, latent_dim)\n",
    "    \n",
    "    def forward(self, x):\n",
    "        # Use VAE to extract precursor speaker embedding\n",
    "        reconstructed_x, mu, logvar = self.vae(x)\n",
    "        return reconstructed_x, mu, logvar\n",
    "\n",
    "# Layer 2: Disentangled Content Representation\n",
    "class DisentangledContentLayer(nn.Module):\n",
    "    def __init__(self, input_dim, latent_dim):\n",
    "        super(DisentangledContentLayer, self).__init__()\n",
    "        self.vae = VAE(latent_dim, latent_dim)\n",
    "        \n",
    "        # A linear layer to project input_dim (128) to latent_dim (16)\n",
    "        self.project_to_latent = nn.Linear(input_dim, latent_dim)\n",
    "    \n",
    "    def forward(self, x, speaker_mu):\n",
    "        # Project x to the latent dimension\n",
    "        projected_x = self.project_to_latent(x)  # (batch_size, latent_dim)\n",
    "        \n",
    "        # Subtract speaker_mu from the projected x to disentangle content\n",
    "        content_input = projected_x - speaker_mu  # Ensure matching dimensions\n",
    "        \n",
    "        # Pass through the VAE for content disentanglement\n",
    "        reconstructed_x, content_mu, content_logvar = self.vae(content_input)\n",
    "        return reconstructed_x, content_mu, content_logvar\n",
    "\n",
    "\n",
    "# Layer 3: Final Disentangled Speaker Representation\n",
    "class FinalSpeakerLayer(nn.Module):\n",
    "    def __init__(self, input_dim, latent_dim):\n",
    "        super(FinalSpeakerLayer, self).__init__()\n",
    "        self.vae = VAE(latent_dim, latent_dim)\n",
    "        \n",
    "        # A linear layer to project input_dim (128) to latent_dim (16)\n",
    "        self.project_to_latent = nn.Linear(input_dim, latent_dim)\n",
    "    \n",
    "    def forward(self, x, content_mu):\n",
    "        # Project x to the latent dimension\n",
    "        projected_x = self.project_to_latent(x)  # (batch_size, latent_dim)\n",
    "        \n",
    "        # Subtract content_mu from the projected x to get final speaker embedding\n",
    "        speaker_input = projected_x - content_mu  # Ensure matching dimensions\n",
    "        \n",
    "        reconstructed_x, final_speaker_mu, final_speaker_logvar = self.vae(speaker_input)\n",
    "        return reconstructed_x, final_speaker_mu, final_speaker_logvar\n",
    "\n",
    "\n",
    "# Full Temporal Aggregation Module (Layer 1 -> Layer 2 -> Layer 3)\n",
    "class TemporalAggregation(nn.Module):\n",
    "    def __init__(self, input_dim, latent_dim):\n",
    "        super(TemporalAggregation, self).__init__()\n",
    "        self.layer1 = PrecursorSpeakerLayer(input_dim, latent_dim)\n",
    "        self.layer2 = DisentangledContentLayer(input_dim, latent_dim)\n",
    "        self.layer3 = FinalSpeakerLayer(input_dim, latent_dim)\n",
    "    \n",
    "    def forward(self, x):\n",
    "        # Layer 1: Precursor Speaker Representation\n",
    "        precursor_output, speaker_mu, speaker_logvar = self.layer1(x)\n",
    "        \n",
    "        # Layer 2: Disentangled Content Representation\n",
    "        content_output, content_mu, content_logvar = self.layer2(x, speaker_mu)\n",
    "        \n",
    "        # Layer 3: Final Disentangled Speaker Representation\n",
    "        final_speaker_output, final_speaker_mu, final_speaker_logvar = self.layer3(x, content_mu)\n",
    "        \n",
    "        return {\n",
    "            'precursor_output': precursor_output,\n",
    "            'speaker_mu': speaker_mu,\n",
    "            'speaker_logvar': speaker_logvar,\n",
    "            'content_output': content_output,\n",
    "            'content_mu': content_mu,\n",
    "            'content_logvar': content_logvar,\n",
    "            'final_speaker_output': final_speaker_output,\n",
    "            'final_speaker_mu': final_speaker_mu,\n",
    "            'final_speaker_logvar': final_speaker_logvar\n",
    "        }\n",
    "    \n",
    "\n",
    "class EmotionRecognitionBranch(nn.Module):\n",
    "    def __init__(self, input_dim, num_emotions):\n",
    "        super(EmotionRecognitionBranch, self).__init__()\n",
    "        # A simple feed-forward network for emotion classification\n",
    "        self.fc_layers = nn.Sequential(\n",
    "            nn.Linear(input_dim, 128),\n",
    "            nn.ReLU(),\n",
    "            nn.Linear(128, 64),\n",
    "            nn.ReLU(),\n",
    "            nn.Linear(64, num_emotions)  # Output: number of emotion classes\n",
    "        )\n",
    "    \n",
    "    def forward(self, x):\n",
    "        # Pass the input (e.g., MFCC features) through the emotion classification layers\n",
    "        emotion_logits = self.fc_layers(x)\n",
    "        return emotion_logits\n",
    "    \n",
    "# Adversarial Discriminator (Emotion Classifier for Adversarial Training)\n",
    "class EmotionAdversarialDiscriminator(nn.Module):\n",
    "    def __init__(self, latent_dim, num_emotions):\n",
    "        super(EmotionAdversarialDiscriminator, self).__init__()\n",
    "        # A simple discriminator for adversarial loss to ensure emotion-invariance\n",
    "        self.fc_layers = nn.Sequential(\n",
    "            nn.Linear(latent_dim, 128),\n",
    "            nn.ReLU(),\n",
    "            nn.Linear(128, num_emotions)  # Output: emotion classes\n",
    "        )\n",
    "    \n",
    "    def forward(self, speaker_embedding):\n",
    "        # Predict emotion from speaker embedding (for adversarial training)\n",
    "        emotion_logits = self.fc_layers(speaker_embedding)\n",
    "        return emotion_logits\n",
    "    \n",
    "# Decoder Module\n",
    "class Decoder(nn.Module):\n",
    "    def __init__(self, latent_dim, output_dim):\n",
    "        super(Decoder, self).__init__()\n",
    "        # Decoder to reconstruct the input features from the latent speaker embedding\n",
    "        self.decoder = nn.Sequential(\n",
    "            nn.Linear(latent_dim, 256),\n",
    "            nn.ReLU(),\n",
    "            nn.Linear(256, 512),\n",
    "            nn.ReLU(),\n",
    "            nn.Linear(512, output_dim),  # Reconstruct the original feature space (e.g., MFCCs)\n",
    "            nn.Sigmoid()  # Sigmoid for normalized output between 0 and 1 (if needed)\n",
    "        )\n",
    "    \n",
    "    def forward(self, speaker_embedding):\n",
    "        # Reconstruct the input feature (e.g., MFCCs) from the latent speaker embedding\n",
    "        reconstructed_input = self.decoder(speaker_embedding)\n",
    "        return reconstructed_input\n",
    "\n",
    "\n",
    "# Final Full Model with Encoder, Temporal Aggregation, Emotion Recognition, and Decoder\n",
    "class FullModelWithEncoder(nn.Module):\n",
    "    def __init__(self, input_dim, latent_dim, hidden_dim, num_emotions):\n",
    "        super(FullModelWithEncoder, self).__init__()\n",
    "        # Encoder to extract frame-level features\n",
    "        self.encoder = Encoder(input_dim, hidden_dim)\n",
    "        \n",
    "        # Temporal Aggregation module (Layer 1, Layer 2, Layer 3)\n",
    "        self.temporal_aggregation = TemporalAggregation(128, latent_dim)  # Output of encoder is 128-dimensional\n",
    "        \n",
    "        # Emotion Recognition Branch\n",
    "        self.emotion_recognition = EmotionRecognitionBranch(128, num_emotions)  # Input dimension from encoder output\n",
    "        \n",
    "        # Adversarial Discriminator for emotion-invariance in speaker embedding\n",
    "        self.emotion_discriminator = EmotionAdversarialDiscriminator(latent_dim, num_emotions)\n",
    "        \n",
    "        # Decoder to reconstruct input features from the final speaker embedding\n",
    "        self.decoder = Decoder(latent_dim, input_dim)\n",
    "    \n",
    "    def forward(self, x):\n",
    "        # Pass input through Encoder to extract frame-level features\n",
    "        encoded_features = self.encoder(x)  # (batch_size, 128)\n",
    "        \n",
    "        # Pass through Temporal Aggregation (Layers 1 -> 2 -> 3)\n",
    "        temporal_output = self.temporal_aggregation(encoded_features)\n",
    "        \n",
    "        # Extract the final speaker embedding from Layer 3\n",
    "        final_speaker_embedding = temporal_output['final_speaker_mu']\n",
    "        \n",
    "        # Pass encoded features through Emotion Recognition Branch\n",
    "        emotion_logits = self.emotion_recognition(encoded_features)\n",
    "        \n",
    "        # Adversarial: Predict emotion from the speaker embedding (for adversarial loss)\n",
    "        adversarial_emotion_logits = self.emotion_discriminator(final_speaker_embedding)\n",
    "        \n",
    "        # Decoder: Reconstruct the original input features from the final speaker embedding\n",
    "        reconstructed_input = self.decoder(final_speaker_embedding)\n",
    "        \n",
    "        return {\n",
    "            'temporal_output': temporal_output,  # Contains all outputs from Layers 1, 2, 3\n",
    "            'emotion_logits': emotion_logits,  # Emotion classification from encoder features\n",
    "            'adversarial_emotion_logits': adversarial_emotion_logits,  # Adversarial emotion prediction\n",
    "            'reconstructed_input': reconstructed_input  # Reconstructed input from speaker embedding\n",
    "        }"
   ]
  },
  {
   "cell_type": "code",
   "execution_count": 61,
   "metadata": {},
   "outputs": [],
   "source": [
    "def build_model(input_dim=13, latent_dim=16, hidden_dim=64, num_emotions=6):\n",
    "    model = FullModelWithEncoder(input_dim, latent_dim, hidden_dim, num_emotions)\n",
    "    return model"
   ]
  },
  {
   "cell_type": "code",
   "execution_count": 63,
   "metadata": {},
   "outputs": [],
   "source": [
    "from tqdm import tqdm\n",
    "\n",
    "# Training and validation loop\n",
    "def train_model(model, train_loader, test_loader, num_epochs=100, lr=0.001, save_path='best_model.pth'):\n",
    "    # Set up optimizer and loss functions\n",
    "    optimizer = torch.optim.Adam(model.parameters(), lr=lr)\n",
    "    emotion_loss_fn = nn.CrossEntropyLoss()\n",
    "    reconstruction_loss_fn = nn.MSELoss()\n",
    "\n",
    "    best_val_accuracy = 0.0  # Track the best validation accuracy\n",
    "\n",
    "    # Training loop\n",
    "    for epoch in range(num_epochs):\n",
    "        # Progress bar for each epoch\n",
    "        print(f\"Epoch [{epoch+1}/{num_epochs}]\")\n",
    "        model.train()\n",
    "        total_emotion_loss, total_reconstruction_loss, total_adversarial_loss = 0, 0, 0\n",
    "        all_preds, all_labels = [], []\n",
    "\n",
    "        # Wrap train_loader with tqdm to show progress\n",
    "        for mfcc_batch, emotion_batch in tqdm(train_loader, desc=\"Training\"):\n",
    "            # Zero the gradients\n",
    "            optimizer.zero_grad()\n",
    "\n",
    "            # Forward pass\n",
    "            output = model(mfcc_batch)\n",
    "            emotion_logits = output['emotion_logits']\n",
    "            adversarial_emotion_logits = output['adversarial_emotion_logits']\n",
    "            reconstructed_mfcc = output['reconstructed_input']\n",
    "\n",
    "            # Ensure reconstructed_mfcc has the same shape as mfcc_batch\n",
    "            reconstructed_mfcc = reconstructed_mfcc.unsqueeze(-1).expand_as(mfcc_batch)\n",
    "\n",
    "            # Compute losses\n",
    "            emotion_loss = emotion_loss_fn(emotion_logits, emotion_batch)\n",
    "            reconstruction_loss = reconstruction_loss_fn(reconstructed_mfcc, mfcc_batch)\n",
    "            adversarial_loss = -emotion_loss_fn(adversarial_emotion_logits, emotion_batch)\n",
    "\n",
    "            total_loss = emotion_loss + reconstruction_loss + adversarial_loss\n",
    "\n",
    "            # Backpropagation and optimizer step\n",
    "            total_loss.backward()\n",
    "            optimizer.step()\n",
    "\n",
    "            # Log losses\n",
    "            total_emotion_loss += emotion_loss.item()\n",
    "            total_reconstruction_loss += reconstruction_loss.item()\n",
    "            total_adversarial_loss += adversarial_loss.item()\n",
    "\n",
    "            # Store predictions for accuracy calculation\n",
    "            preds = torch.argmax(emotion_logits, dim=1).cpu().numpy()\n",
    "            all_preds.extend(preds)\n",
    "            all_labels.extend(emotion_batch.cpu().numpy())\n",
    "\n",
    "        # Calculate training accuracy\n",
    "        train_accuracy = accuracy_score(all_labels, all_preds)\n",
    "\n",
    "        print(f\"Train Emotion Loss: {total_emotion_loss / len(train_loader):.4f}, Train Accuracy: {train_accuracy:.4f}\")\n",
    "\n",
    "        # Validation phase\n",
    "        model.eval()\n",
    "        val_emotion_loss, val_reconstruction_loss, val_adversarial_loss = 0, 0, 0\n",
    "        all_val_preds, all_val_labels = [], []\n",
    "\n",
    "        # Wrap test_loader with tqdm to show progress\n",
    "        with torch.no_grad():\n",
    "            for mfcc_batch, emotion_batch in tqdm(test_loader, desc=\"Validating\"):\n",
    "                output = model(mfcc_batch)\n",
    "                emotion_logits = output['emotion_logits']\n",
    "                adversarial_emotion_logits = output['adversarial_emotion_logits']\n",
    "                reconstructed_mfcc = output['reconstructed_input']\n",
    "\n",
    "                # Ensure reconstructed_mfcc has the same shape as mfcc_batch\n",
    "                reconstructed_mfcc = reconstructed_mfcc.unsqueeze(-1).expand_as(mfcc_batch)\n",
    "\n",
    "                emotion_loss = emotion_loss_fn(emotion_logits, emotion_batch)\n",
    "                reconstruction_loss = reconstruction_loss_fn(reconstructed_mfcc, mfcc_batch)\n",
    "                adversarial_loss = -emotion_loss_fn(adversarial_emotion_logits, emotion_batch)\n",
    "\n",
    "                val_emotion_loss += emotion_loss.item()\n",
    "                val_reconstruction_loss += reconstruction_loss.item()\n",
    "                val_adversarial_loss += adversarial_loss.item()\n",
    "\n",
    "                val_preds = torch.argmax(emotion_logits, dim=1).cpu().numpy()\n",
    "                all_val_preds.extend(val_preds)\n",
    "                all_val_labels.extend(emotion_batch.cpu().numpy())\n",
    "\n",
    "        val_accuracy = accuracy_score(all_val_labels, all_val_preds)\n",
    "\n",
    "        print(f\"Val Emotion Loss: {val_emotion_loss / len(test_loader):.4f}, Val Accuracy: {val_accuracy:.4f}\")\n",
    "\n",
    "        # Save the model if validation accuracy improves\n",
    "        if val_accuracy > best_val_accuracy:\n",
    "            best_val_accuracy = val_accuracy\n",
    "            torch.save(model.state_dict(), save_path)\n",
    "            print(f\"Model saved with validation accuracy: {val_accuracy:.4f}\")\n",
    "\n",
    "    print(\"Training finished!\")\n"
   ]
  },
  {
   "cell_type": "code",
   "execution_count": 64,
   "metadata": {},
   "outputs": [
    {
     "name": "stdout",
     "output_type": "stream",
     "text": [
      "Epoch [1/100]\n"
     ]
    },
    {
     "name": "stderr",
     "output_type": "stream",
     "text": [
      "Training: 100%|██████████| 6/6 [00:00<00:00, 42.71it/s]\n"
     ]
    },
    {
     "name": "stdout",
     "output_type": "stream",
     "text": [
      "Train Emotion Loss: 1.7488, Train Accuracy: 0.2872\n"
     ]
    },
    {
     "name": "stderr",
     "output_type": "stream",
     "text": [
      "Validating: 100%|██████████| 2/2 [00:00<00:00, 140.36it/s]\n"
     ]
    },
    {
     "name": "stdout",
     "output_type": "stream",
     "text": [
      "Val Emotion Loss: 1.6895, Val Accuracy: 0.4468\n",
      "Model saved with validation accuracy: 0.4468\n",
      "Epoch [2/100]\n"
     ]
    },
    {
     "name": "stderr",
     "output_type": "stream",
     "text": [
      "Training: 100%|██████████| 6/6 [00:00<00:00, 47.58it/s]\n"
     ]
    },
    {
     "name": "stdout",
     "output_type": "stream",
     "text": [
      "Train Emotion Loss: 1.6957, Train Accuracy: 0.2872\n"
     ]
    },
    {
     "name": "stderr",
     "output_type": "stream",
     "text": [
      "Validating: 100%|██████████| 2/2 [00:00<00:00, 179.82it/s]\n"
     ]
    },
    {
     "name": "stdout",
     "output_type": "stream",
     "text": [
      "Val Emotion Loss: 1.5736, Val Accuracy: 0.4468\n",
      "Epoch [3/100]\n"
     ]
    },
    {
     "name": "stderr",
     "output_type": "stream",
     "text": [
      "Training: 100%|██████████| 6/6 [00:00<00:00, 44.33it/s]\n"
     ]
    },
    {
     "name": "stdout",
     "output_type": "stream",
     "text": [
      "Train Emotion Loss: 1.5959, Train Accuracy: 0.2926\n"
     ]
    },
    {
     "name": "stderr",
     "output_type": "stream",
     "text": [
      "Validating: 100%|██████████| 2/2 [00:00<00:00, 150.26it/s]\n"
     ]
    },
    {
     "name": "stdout",
     "output_type": "stream",
     "text": [
      "Val Emotion Loss: 1.6505, Val Accuracy: 0.4468\n",
      "Epoch [4/100]\n"
     ]
    },
    {
     "name": "stderr",
     "output_type": "stream",
     "text": [
      "Training: 100%|██████████| 6/6 [00:00<00:00, 46.71it/s]\n"
     ]
    },
    {
     "name": "stdout",
     "output_type": "stream",
     "text": [
      "Train Emotion Loss: 1.6421, Train Accuracy: 0.3883\n"
     ]
    },
    {
     "name": "stderr",
     "output_type": "stream",
     "text": [
      "Validating: 100%|██████████| 2/2 [00:00<00:00, 297.27it/s]\n"
     ]
    },
    {
     "name": "stdout",
     "output_type": "stream",
     "text": [
      "Val Emotion Loss: 1.7266, Val Accuracy: 0.4468\n",
      "Epoch [5/100]\n"
     ]
    },
    {
     "name": "stderr",
     "output_type": "stream",
     "text": [
      "Training: 100%|██████████| 6/6 [00:00<00:00, 45.43it/s]\n"
     ]
    },
    {
     "name": "stdout",
     "output_type": "stream",
     "text": [
      "Train Emotion Loss: 1.6790, Train Accuracy: 0.3564\n"
     ]
    },
    {
     "name": "stderr",
     "output_type": "stream",
     "text": [
      "Validating: 100%|██████████| 2/2 [00:00<00:00, 145.31it/s]\n"
     ]
    },
    {
     "name": "stdout",
     "output_type": "stream",
     "text": [
      "Val Emotion Loss: 1.6073, Val Accuracy: 0.5106\n",
      "Model saved with validation accuracy: 0.5106\n",
      "Epoch [6/100]\n"
     ]
    },
    {
     "name": "stderr",
     "output_type": "stream",
     "text": [
      "Training: 100%|██████████| 6/6 [00:00<00:00, 39.89it/s]\n"
     ]
    },
    {
     "name": "stdout",
     "output_type": "stream",
     "text": [
      "Train Emotion Loss: 1.7287, Train Accuracy: 0.3404\n"
     ]
    },
    {
     "name": "stderr",
     "output_type": "stream",
     "text": [
      "Validating: 100%|██████████| 2/2 [00:00<00:00, 165.78it/s]\n"
     ]
    },
    {
     "name": "stdout",
     "output_type": "stream",
     "text": [
      "Val Emotion Loss: 1.6362, Val Accuracy: 0.2553\n",
      "Epoch [7/100]\n"
     ]
    },
    {
     "name": "stderr",
     "output_type": "stream",
     "text": [
      "Training: 100%|██████████| 6/6 [00:00<00:00, 45.04it/s]\n"
     ]
    },
    {
     "name": "stdout",
     "output_type": "stream",
     "text": [
      "Train Emotion Loss: 1.6675, Train Accuracy: 0.3032\n"
     ]
    },
    {
     "name": "stderr",
     "output_type": "stream",
     "text": [
      "Validating: 100%|██████████| 2/2 [00:00<00:00, 226.00it/s]\n"
     ]
    },
    {
     "name": "stdout",
     "output_type": "stream",
     "text": [
      "Val Emotion Loss: 1.5554, Val Accuracy: 0.3830\n",
      "Epoch [8/100]\n"
     ]
    },
    {
     "name": "stderr",
     "output_type": "stream",
     "text": [
      "Training: 100%|██████████| 6/6 [00:00<00:00, 45.07it/s]\n"
     ]
    },
    {
     "name": "stdout",
     "output_type": "stream",
     "text": [
      "Train Emotion Loss: 1.6730, Train Accuracy: 0.3511\n"
     ]
    },
    {
     "name": "stderr",
     "output_type": "stream",
     "text": [
      "Validating: 100%|██████████| 2/2 [00:00<00:00, 265.67it/s]\n"
     ]
    },
    {
     "name": "stdout",
     "output_type": "stream",
     "text": [
      "Val Emotion Loss: 1.5579, Val Accuracy: 0.3617\n",
      "Epoch [9/100]\n"
     ]
    },
    {
     "name": "stderr",
     "output_type": "stream",
     "text": [
      "Training: 100%|██████████| 6/6 [00:00<00:00, 45.71it/s]\n"
     ]
    },
    {
     "name": "stdout",
     "output_type": "stream",
     "text": [
      "Train Emotion Loss: 1.6691, Train Accuracy: 0.3777\n"
     ]
    },
    {
     "name": "stderr",
     "output_type": "stream",
     "text": [
      "Validating: 100%|██████████| 2/2 [00:00<00:00, 163.64it/s]\n"
     ]
    },
    {
     "name": "stdout",
     "output_type": "stream",
     "text": [
      "Val Emotion Loss: 1.6764, Val Accuracy: 0.4468\n",
      "Epoch [10/100]\n"
     ]
    },
    {
     "name": "stderr",
     "output_type": "stream",
     "text": [
      "Training: 100%|██████████| 6/6 [00:00<00:00, 46.52it/s]\n"
     ]
    },
    {
     "name": "stdout",
     "output_type": "stream",
     "text": [
      "Train Emotion Loss: 1.6166, Train Accuracy: 0.3670\n"
     ]
    },
    {
     "name": "stderr",
     "output_type": "stream",
     "text": [
      "Validating: 100%|██████████| 2/2 [00:00<00:00, 164.26it/s]\n"
     ]
    },
    {
     "name": "stdout",
     "output_type": "stream",
     "text": [
      "Val Emotion Loss: 1.7186, Val Accuracy: 0.4255\n",
      "Epoch [11/100]\n"
     ]
    },
    {
     "name": "stderr",
     "output_type": "stream",
     "text": [
      "Training: 100%|██████████| 6/6 [00:00<00:00, 47.88it/s]\n"
     ]
    },
    {
     "name": "stdout",
     "output_type": "stream",
     "text": [
      "Train Emotion Loss: 1.8508, Train Accuracy: 0.2181\n"
     ]
    },
    {
     "name": "stderr",
     "output_type": "stream",
     "text": [
      "Validating: 100%|██████████| 2/2 [00:00<00:00, 146.93it/s]\n"
     ]
    },
    {
     "name": "stdout",
     "output_type": "stream",
     "text": [
      "Val Emotion Loss: 1.7288, Val Accuracy: 0.4468\n",
      "Epoch [12/100]\n"
     ]
    },
    {
     "name": "stderr",
     "output_type": "stream",
     "text": [
      "Training: 100%|██████████| 6/6 [00:00<00:00, 48.31it/s]\n"
     ]
    },
    {
     "name": "stdout",
     "output_type": "stream",
     "text": [
      "Train Emotion Loss: 1.7841, Train Accuracy: 0.3138\n"
     ]
    },
    {
     "name": "stderr",
     "output_type": "stream",
     "text": [
      "Validating: 100%|██████████| 2/2 [00:00<00:00, 255.19it/s]\n"
     ]
    },
    {
     "name": "stdout",
     "output_type": "stream",
     "text": [
      "Val Emotion Loss: 1.7359, Val Accuracy: 0.4468\n",
      "Epoch [13/100]\n"
     ]
    },
    {
     "name": "stderr",
     "output_type": "stream",
     "text": [
      "Training: 100%|██████████| 6/6 [00:00<00:00, 46.56it/s]\n"
     ]
    },
    {
     "name": "stdout",
     "output_type": "stream",
     "text": [
      "Train Emotion Loss: 1.9045, Train Accuracy: 0.3138\n"
     ]
    },
    {
     "name": "stderr",
     "output_type": "stream",
     "text": [
      "Validating: 100%|██████████| 2/2 [00:00<00:00, 245.68it/s]\n"
     ]
    },
    {
     "name": "stdout",
     "output_type": "stream",
     "text": [
      "Val Emotion Loss: 1.7158, Val Accuracy: 0.3617\n",
      "Epoch [14/100]\n"
     ]
    },
    {
     "name": "stderr",
     "output_type": "stream",
     "text": [
      "Training: 100%|██████████| 6/6 [00:00<00:00, 42.93it/s]\n"
     ]
    },
    {
     "name": "stdout",
     "output_type": "stream",
     "text": [
      "Train Emotion Loss: 1.8052, Train Accuracy: 0.3617\n"
     ]
    },
    {
     "name": "stderr",
     "output_type": "stream",
     "text": [
      "Validating: 100%|██████████| 2/2 [00:00<00:00, 208.45it/s]\n"
     ]
    },
    {
     "name": "stdout",
     "output_type": "stream",
     "text": [
      "Val Emotion Loss: 1.8183, Val Accuracy: 0.2128\n",
      "Epoch [15/100]\n"
     ]
    },
    {
     "name": "stderr",
     "output_type": "stream",
     "text": [
      "Training: 100%|██████████| 6/6 [00:00<00:00, 50.77it/s]\n"
     ]
    },
    {
     "name": "stdout",
     "output_type": "stream",
     "text": [
      "Train Emotion Loss: 1.7991, Train Accuracy: 0.2872\n"
     ]
    },
    {
     "name": "stderr",
     "output_type": "stream",
     "text": [
      "Validating: 100%|██████████| 2/2 [00:00<00:00, 127.34it/s]\n"
     ]
    },
    {
     "name": "stdout",
     "output_type": "stream",
     "text": [
      "Val Emotion Loss: 2.1238, Val Accuracy: 0.1915\n",
      "Epoch [16/100]\n"
     ]
    },
    {
     "name": "stderr",
     "output_type": "stream",
     "text": [
      "Training: 100%|██████████| 6/6 [00:00<00:00, 50.72it/s]\n"
     ]
    },
    {
     "name": "stdout",
     "output_type": "stream",
     "text": [
      "Train Emotion Loss: 2.0354, Train Accuracy: 0.2606\n"
     ]
    },
    {
     "name": "stderr",
     "output_type": "stream",
     "text": [
      "Validating: 100%|██████████| 2/2 [00:00<00:00, 107.27it/s]\n"
     ]
    },
    {
     "name": "stdout",
     "output_type": "stream",
     "text": [
      "Val Emotion Loss: 2.4445, Val Accuracy: 0.2340\n",
      "Epoch [17/100]\n"
     ]
    },
    {
     "name": "stderr",
     "output_type": "stream",
     "text": [
      "Training: 100%|██████████| 6/6 [00:00<00:00, 47.97it/s]\n"
     ]
    },
    {
     "name": "stdout",
     "output_type": "stream",
     "text": [
      "Train Emotion Loss: 2.3991, Train Accuracy: 0.3085\n"
     ]
    },
    {
     "name": "stderr",
     "output_type": "stream",
     "text": [
      "Validating: 100%|██████████| 2/2 [00:00<00:00, 484.97it/s]\n"
     ]
    },
    {
     "name": "stdout",
     "output_type": "stream",
     "text": [
      "Val Emotion Loss: 2.0419, Val Accuracy: 0.1702\n",
      "Epoch [18/100]\n"
     ]
    },
    {
     "name": "stderr",
     "output_type": "stream",
     "text": [
      "Training: 100%|██████████| 6/6 [00:00<00:00, 48.30it/s]\n"
     ]
    },
    {
     "name": "stdout",
     "output_type": "stream",
     "text": [
      "Train Emotion Loss: 3.1475, Train Accuracy: 0.3138\n"
     ]
    },
    {
     "name": "stderr",
     "output_type": "stream",
     "text": [
      "Validating: 100%|██████████| 2/2 [00:00<00:00, 478.86it/s]\n"
     ]
    },
    {
     "name": "stdout",
     "output_type": "stream",
     "text": [
      "Val Emotion Loss: 2.9813, Val Accuracy: 0.4468\n",
      "Epoch [19/100]\n"
     ]
    },
    {
     "name": "stderr",
     "output_type": "stream",
     "text": [
      "Training: 100%|██████████| 6/6 [00:00<00:00, 45.21it/s]\n"
     ]
    },
    {
     "name": "stdout",
     "output_type": "stream",
     "text": [
      "Train Emotion Loss: 4.3075, Train Accuracy: 0.1489\n"
     ]
    },
    {
     "name": "stderr",
     "output_type": "stream",
     "text": [
      "Validating: 100%|██████████| 2/2 [00:00<00:00, 632.63it/s]\n"
     ]
    },
    {
     "name": "stdout",
     "output_type": "stream",
     "text": [
      "Val Emotion Loss: 1.5413, Val Accuracy: 0.5106\n",
      "Epoch [20/100]\n"
     ]
    },
    {
     "name": "stderr",
     "output_type": "stream",
     "text": [
      "Training: 100%|██████████| 6/6 [00:00<00:00, 45.43it/s]\n"
     ]
    },
    {
     "name": "stdout",
     "output_type": "stream",
     "text": [
      "Train Emotion Loss: 2.6922, Train Accuracy: 0.3723\n"
     ]
    },
    {
     "name": "stderr",
     "output_type": "stream",
     "text": [
      "Validating: 100%|██████████| 2/2 [00:00<00:00, 161.24it/s]\n"
     ]
    },
    {
     "name": "stdout",
     "output_type": "stream",
     "text": [
      "Val Emotion Loss: 1.6927, Val Accuracy: 0.2340\n",
      "Epoch [21/100]\n"
     ]
    },
    {
     "name": "stderr",
     "output_type": "stream",
     "text": [
      "Training: 100%|██████████| 6/6 [00:00<00:00, 50.10it/s]\n"
     ]
    },
    {
     "name": "stdout",
     "output_type": "stream",
     "text": [
      "Train Emotion Loss: 2.9504, Train Accuracy: 0.2606\n"
     ]
    },
    {
     "name": "stderr",
     "output_type": "stream",
     "text": [
      "Validating: 100%|██████████| 2/2 [00:00<00:00, 1686.83it/s]\n"
     ]
    },
    {
     "name": "stdout",
     "output_type": "stream",
     "text": [
      "Val Emotion Loss: 2.0395, Val Accuracy: 0.3830\n",
      "Epoch [22/100]\n"
     ]
    },
    {
     "name": "stderr",
     "output_type": "stream",
     "text": [
      "Training: 100%|██████████| 6/6 [00:00<00:00, 44.70it/s]\n"
     ]
    },
    {
     "name": "stdout",
     "output_type": "stream",
     "text": [
      "Train Emotion Loss: 2.8474, Train Accuracy: 0.3617\n"
     ]
    },
    {
     "name": "stderr",
     "output_type": "stream",
     "text": [
      "Validating: 100%|██████████| 2/2 [00:00<00:00, 165.16it/s]\n"
     ]
    },
    {
     "name": "stdout",
     "output_type": "stream",
     "text": [
      "Val Emotion Loss: 1.9574, Val Accuracy: 0.4043\n",
      "Epoch [23/100]\n"
     ]
    },
    {
     "name": "stderr",
     "output_type": "stream",
     "text": [
      "Training: 100%|██████████| 6/6 [00:00<00:00, 46.81it/s]\n"
     ]
    },
    {
     "name": "stdout",
     "output_type": "stream",
     "text": [
      "Train Emotion Loss: 2.5372, Train Accuracy: 0.2766\n"
     ]
    },
    {
     "name": "stderr",
     "output_type": "stream",
     "text": [
      "Validating: 100%|██████████| 2/2 [00:00<00:00, 286.05it/s]\n"
     ]
    },
    {
     "name": "stdout",
     "output_type": "stream",
     "text": [
      "Val Emotion Loss: 2.1304, Val Accuracy: 0.2340\n",
      "Epoch [24/100]\n"
     ]
    },
    {
     "name": "stderr",
     "output_type": "stream",
     "text": [
      "Training: 100%|██████████| 6/6 [00:00<00:00, 46.86it/s]\n"
     ]
    },
    {
     "name": "stdout",
     "output_type": "stream",
     "text": [
      "Train Emotion Loss: 3.0149, Train Accuracy: 0.2766\n"
     ]
    },
    {
     "name": "stderr",
     "output_type": "stream",
     "text": [
      "Validating: 100%|██████████| 2/2 [00:00<00:00, 184.09it/s]\n"
     ]
    },
    {
     "name": "stdout",
     "output_type": "stream",
     "text": [
      "Val Emotion Loss: 5.9750, Val Accuracy: 0.2340\n",
      "Epoch [25/100]\n"
     ]
    },
    {
     "name": "stderr",
     "output_type": "stream",
     "text": [
      "Training: 100%|██████████| 6/6 [00:00<00:00, 47.18it/s]\n"
     ]
    },
    {
     "name": "stdout",
     "output_type": "stream",
     "text": [
      "Train Emotion Loss: 5.9566, Train Accuracy: 0.2021\n"
     ]
    },
    {
     "name": "stderr",
     "output_type": "stream",
     "text": [
      "Validating: 100%|██████████| 2/2 [00:00<00:00, 187.41it/s]\n"
     ]
    },
    {
     "name": "stdout",
     "output_type": "stream",
     "text": [
      "Val Emotion Loss: 2.7612, Val Accuracy: 0.2340\n",
      "Epoch [26/100]\n"
     ]
    },
    {
     "name": "stderr",
     "output_type": "stream",
     "text": [
      "Training: 100%|██████████| 6/6 [00:00<00:00, 47.11it/s]\n"
     ]
    },
    {
     "name": "stdout",
     "output_type": "stream",
     "text": [
      "Train Emotion Loss: 3.1635, Train Accuracy: 0.2979\n"
     ]
    },
    {
     "name": "stderr",
     "output_type": "stream",
     "text": [
      "Validating: 100%|██████████| 2/2 [00:00<00:00, 190.19it/s]\n"
     ]
    },
    {
     "name": "stdout",
     "output_type": "stream",
     "text": [
      "Val Emotion Loss: 4.3114, Val Accuracy: 0.2340\n",
      "Epoch [27/100]\n"
     ]
    },
    {
     "name": "stderr",
     "output_type": "stream",
     "text": [
      "Training: 100%|██████████| 6/6 [00:00<00:00, 46.49it/s]\n"
     ]
    },
    {
     "name": "stdout",
     "output_type": "stream",
     "text": [
      "Train Emotion Loss: 3.4903, Train Accuracy: 0.2713\n"
     ]
    },
    {
     "name": "stderr",
     "output_type": "stream",
     "text": [
      "Validating: 100%|██████████| 2/2 [00:00<00:00, 205.11it/s]\n"
     ]
    },
    {
     "name": "stdout",
     "output_type": "stream",
     "text": [
      "Val Emotion Loss: 2.5247, Val Accuracy: 0.3830\n",
      "Epoch [28/100]\n"
     ]
    },
    {
     "name": "stderr",
     "output_type": "stream",
     "text": [
      "Training: 100%|██████████| 6/6 [00:00<00:00, 49.44it/s]\n"
     ]
    },
    {
     "name": "stdout",
     "output_type": "stream",
     "text": [
      "Train Emotion Loss: 2.3875, Train Accuracy: 0.3777\n"
     ]
    },
    {
     "name": "stderr",
     "output_type": "stream",
     "text": [
      "Validating: 100%|██████████| 2/2 [00:00<00:00, 189.43it/s]\n"
     ]
    },
    {
     "name": "stdout",
     "output_type": "stream",
     "text": [
      "Val Emotion Loss: 1.9526, Val Accuracy: 0.2979\n",
      "Epoch [29/100]\n"
     ]
    },
    {
     "name": "stderr",
     "output_type": "stream",
     "text": [
      "Training: 100%|██████████| 6/6 [00:00<00:00, 49.83it/s]\n"
     ]
    },
    {
     "name": "stdout",
     "output_type": "stream",
     "text": [
      "Train Emotion Loss: 2.3922, Train Accuracy: 0.2287\n"
     ]
    },
    {
     "name": "stderr",
     "output_type": "stream",
     "text": [
      "Validating: 100%|██████████| 2/2 [00:00<00:00, 128.12it/s]\n"
     ]
    },
    {
     "name": "stdout",
     "output_type": "stream",
     "text": [
      "Val Emotion Loss: 2.7963, Val Accuracy: 0.4468\n",
      "Epoch [30/100]\n"
     ]
    },
    {
     "name": "stderr",
     "output_type": "stream",
     "text": [
      "Training: 100%|██████████| 6/6 [00:00<00:00, 44.79it/s]\n"
     ]
    },
    {
     "name": "stdout",
     "output_type": "stream",
     "text": [
      "Train Emotion Loss: 3.3869, Train Accuracy: 0.3404\n"
     ]
    },
    {
     "name": "stderr",
     "output_type": "stream",
     "text": [
      "Validating: 100%|██████████| 2/2 [00:00<00:00, 170.34it/s]\n"
     ]
    },
    {
     "name": "stdout",
     "output_type": "stream",
     "text": [
      "Val Emotion Loss: 3.3665, Val Accuracy: 0.4468\n",
      "Epoch [31/100]\n"
     ]
    },
    {
     "name": "stderr",
     "output_type": "stream",
     "text": [
      "Training: 100%|██████████| 6/6 [00:00<00:00, 47.18it/s]\n"
     ]
    },
    {
     "name": "stdout",
     "output_type": "stream",
     "text": [
      "Train Emotion Loss: 3.7668, Train Accuracy: 0.3298\n"
     ]
    },
    {
     "name": "stderr",
     "output_type": "stream",
     "text": [
      "Validating: 100%|██████████| 2/2 [00:00<00:00, 189.42it/s]\n"
     ]
    },
    {
     "name": "stdout",
     "output_type": "stream",
     "text": [
      "Val Emotion Loss: 5.6463, Val Accuracy: 0.2340\n",
      "Epoch [32/100]\n"
     ]
    },
    {
     "name": "stderr",
     "output_type": "stream",
     "text": [
      "Training: 100%|██████████| 6/6 [00:00<00:00, 46.81it/s]\n"
     ]
    },
    {
     "name": "stdout",
     "output_type": "stream",
     "text": [
      "Train Emotion Loss: 5.2883, Train Accuracy: 0.2181\n"
     ]
    },
    {
     "name": "stderr",
     "output_type": "stream",
     "text": [
      "Validating: 100%|██████████| 2/2 [00:00<00:00, 180.96it/s]\n"
     ]
    },
    {
     "name": "stdout",
     "output_type": "stream",
     "text": [
      "Val Emotion Loss: 3.8449, Val Accuracy: 0.4468\n",
      "Epoch [33/100]\n"
     ]
    },
    {
     "name": "stderr",
     "output_type": "stream",
     "text": [
      "Training: 100%|██████████| 6/6 [00:00<00:00, 50.62it/s]\n"
     ]
    },
    {
     "name": "stdout",
     "output_type": "stream",
     "text": [
      "Train Emotion Loss: 3.3892, Train Accuracy: 0.2128\n"
     ]
    },
    {
     "name": "stderr",
     "output_type": "stream",
     "text": [
      "Validating: 100%|██████████| 2/2 [00:00<00:00, 219.10it/s]\n"
     ]
    },
    {
     "name": "stdout",
     "output_type": "stream",
     "text": [
      "Val Emotion Loss: 2.1872, Val Accuracy: 0.1489\n",
      "Epoch [34/100]\n"
     ]
    },
    {
     "name": "stderr",
     "output_type": "stream",
     "text": [
      "Training: 100%|██████████| 6/6 [00:00<00:00, 50.89it/s]\n"
     ]
    },
    {
     "name": "stdout",
     "output_type": "stream",
     "text": [
      "Train Emotion Loss: 4.1704, Train Accuracy: 0.2447\n"
     ]
    },
    {
     "name": "stderr",
     "output_type": "stream",
     "text": [
      "Validating: 100%|██████████| 2/2 [00:00<00:00, 342.21it/s]\n"
     ]
    },
    {
     "name": "stdout",
     "output_type": "stream",
     "text": [
      "Val Emotion Loss: 7.6006, Val Accuracy: 0.4468\n",
      "Epoch [35/100]\n"
     ]
    },
    {
     "name": "stderr",
     "output_type": "stream",
     "text": [
      "Training: 100%|██████████| 6/6 [00:00<00:00, 43.61it/s]\n"
     ]
    },
    {
     "name": "stdout",
     "output_type": "stream",
     "text": [
      "Train Emotion Loss: 7.0225, Train Accuracy: 0.1809\n"
     ]
    },
    {
     "name": "stderr",
     "output_type": "stream",
     "text": [
      "Validating: 100%|██████████| 2/2 [00:00<00:00, 158.88it/s]\n"
     ]
    },
    {
     "name": "stdout",
     "output_type": "stream",
     "text": [
      "Val Emotion Loss: 4.8593, Val Accuracy: 0.0851\n",
      "Epoch [36/100]\n"
     ]
    },
    {
     "name": "stderr",
     "output_type": "stream",
     "text": [
      "Training: 100%|██████████| 6/6 [00:00<00:00, 46.65it/s]\n"
     ]
    },
    {
     "name": "stdout",
     "output_type": "stream",
     "text": [
      "Train Emotion Loss: 5.0592, Train Accuracy: 0.2074\n"
     ]
    },
    {
     "name": "stderr",
     "output_type": "stream",
     "text": [
      "Validating: 100%|██████████| 2/2 [00:00<00:00, 269.79it/s]\n"
     ]
    },
    {
     "name": "stdout",
     "output_type": "stream",
     "text": [
      "Val Emotion Loss: 2.9870, Val Accuracy: 0.4468\n",
      "Epoch [37/100]\n"
     ]
    },
    {
     "name": "stderr",
     "output_type": "stream",
     "text": [
      "Training: 100%|██████████| 6/6 [00:00<00:00, 42.63it/s]\n"
     ]
    },
    {
     "name": "stdout",
     "output_type": "stream",
     "text": [
      "Train Emotion Loss: 4.0440, Train Accuracy: 0.2553\n"
     ]
    },
    {
     "name": "stderr",
     "output_type": "stream",
     "text": [
      "Validating: 100%|██████████| 2/2 [00:00<00:00, 199.08it/s]\n"
     ]
    },
    {
     "name": "stdout",
     "output_type": "stream",
     "text": [
      "Val Emotion Loss: 3.6908, Val Accuracy: 0.1702\n",
      "Epoch [38/100]\n"
     ]
    },
    {
     "name": "stderr",
     "output_type": "stream",
     "text": [
      "Training: 100%|██████████| 6/6 [00:00<00:00, 52.44it/s]\n"
     ]
    },
    {
     "name": "stdout",
     "output_type": "stream",
     "text": [
      "Train Emotion Loss: 4.1924, Train Accuracy: 0.2660\n"
     ]
    },
    {
     "name": "stderr",
     "output_type": "stream",
     "text": [
      "Validating: 100%|██████████| 2/2 [00:00<00:00, 200.00it/s]\n"
     ]
    },
    {
     "name": "stdout",
     "output_type": "stream",
     "text": [
      "Val Emotion Loss: 3.8892, Val Accuracy: 0.4468\n",
      "Epoch [39/100]\n"
     ]
    },
    {
     "name": "stderr",
     "output_type": "stream",
     "text": [
      "Training: 100%|██████████| 6/6 [00:00<00:00, 50.74it/s]\n"
     ]
    },
    {
     "name": "stdout",
     "output_type": "stream",
     "text": [
      "Train Emotion Loss: 3.3282, Train Accuracy: 0.2926\n"
     ]
    },
    {
     "name": "stderr",
     "output_type": "stream",
     "text": [
      "Validating: 100%|██████████| 2/2 [00:00<00:00, 192.81it/s]\n"
     ]
    },
    {
     "name": "stdout",
     "output_type": "stream",
     "text": [
      "Val Emotion Loss: 2.3487, Val Accuracy: 0.2979\n",
      "Epoch [40/100]\n"
     ]
    },
    {
     "name": "stderr",
     "output_type": "stream",
     "text": [
      "Training: 100%|██████████| 6/6 [00:00<00:00, 51.81it/s]\n"
     ]
    },
    {
     "name": "stdout",
     "output_type": "stream",
     "text": [
      "Train Emotion Loss: 3.4327, Train Accuracy: 0.2500\n"
     ]
    },
    {
     "name": "stderr",
     "output_type": "stream",
     "text": [
      "Validating: 100%|██████████| 2/2 [00:00<00:00, 436.09it/s]\n"
     ]
    },
    {
     "name": "stdout",
     "output_type": "stream",
     "text": [
      "Val Emotion Loss: 3.6109, Val Accuracy: 0.4468\n",
      "Epoch [41/100]\n"
     ]
    },
    {
     "name": "stderr",
     "output_type": "stream",
     "text": [
      "Training: 100%|██████████| 6/6 [00:00<00:00, 45.13it/s]\n"
     ]
    },
    {
     "name": "stdout",
     "output_type": "stream",
     "text": [
      "Train Emotion Loss: 2.6268, Train Accuracy: 0.3191\n"
     ]
    },
    {
     "name": "stderr",
     "output_type": "stream",
     "text": [
      "Validating: 100%|██████████| 2/2 [00:00<00:00, 390.39it/s]\n"
     ]
    },
    {
     "name": "stdout",
     "output_type": "stream",
     "text": [
      "Val Emotion Loss: 2.6109, Val Accuracy: 0.1915\n",
      "Epoch [42/100]\n"
     ]
    },
    {
     "name": "stderr",
     "output_type": "stream",
     "text": [
      "Training: 100%|██████████| 6/6 [00:00<00:00, 49.15it/s]\n"
     ]
    },
    {
     "name": "stdout",
     "output_type": "stream",
     "text": [
      "Train Emotion Loss: 2.6853, Train Accuracy: 0.2340\n"
     ]
    },
    {
     "name": "stderr",
     "output_type": "stream",
     "text": [
      "Validating: 100%|██████████| 2/2 [00:00<00:00, 195.76it/s]\n"
     ]
    },
    {
     "name": "stdout",
     "output_type": "stream",
     "text": [
      "Val Emotion Loss: 1.9041, Val Accuracy: 0.1277\n",
      "Epoch [43/100]\n"
     ]
    },
    {
     "name": "stderr",
     "output_type": "stream",
     "text": [
      "Training: 100%|██████████| 6/6 [00:00<00:00, 44.16it/s]\n"
     ]
    },
    {
     "name": "stdout",
     "output_type": "stream",
     "text": [
      "Train Emotion Loss: 2.7676, Train Accuracy: 0.2394\n"
     ]
    },
    {
     "name": "stderr",
     "output_type": "stream",
     "text": [
      "Validating: 100%|██████████| 2/2 [00:00<00:00, 256.08it/s]\n"
     ]
    },
    {
     "name": "stdout",
     "output_type": "stream",
     "text": [
      "Val Emotion Loss: 2.2898, Val Accuracy: 0.2340\n",
      "Epoch [44/100]\n"
     ]
    },
    {
     "name": "stderr",
     "output_type": "stream",
     "text": [
      "Training: 100%|██████████| 6/6 [00:00<00:00, 43.72it/s]\n"
     ]
    },
    {
     "name": "stdout",
     "output_type": "stream",
     "text": [
      "Train Emotion Loss: 3.1583, Train Accuracy: 0.2074\n"
     ]
    },
    {
     "name": "stderr",
     "output_type": "stream",
     "text": [
      "Validating: 100%|██████████| 2/2 [00:00<00:00, 310.42it/s]\n"
     ]
    },
    {
     "name": "stdout",
     "output_type": "stream",
     "text": [
      "Val Emotion Loss: 3.2862, Val Accuracy: 0.2340\n",
      "Epoch [45/100]\n"
     ]
    },
    {
     "name": "stderr",
     "output_type": "stream",
     "text": [
      "Training: 100%|██████████| 6/6 [00:00<00:00, 43.28it/s]\n"
     ]
    },
    {
     "name": "stdout",
     "output_type": "stream",
     "text": [
      "Train Emotion Loss: 3.2787, Train Accuracy: 0.3351\n"
     ]
    },
    {
     "name": "stderr",
     "output_type": "stream",
     "text": [
      "Validating: 100%|██████████| 2/2 [00:00<00:00, 88.03it/s]\n"
     ]
    },
    {
     "name": "stdout",
     "output_type": "stream",
     "text": [
      "Val Emotion Loss: 2.3658, Val Accuracy: 0.1489\n",
      "Epoch [46/100]\n"
     ]
    },
    {
     "name": "stderr",
     "output_type": "stream",
     "text": [
      "Training: 100%|██████████| 6/6 [00:00<00:00, 49.59it/s]\n"
     ]
    },
    {
     "name": "stdout",
     "output_type": "stream",
     "text": [
      "Train Emotion Loss: 2.6127, Train Accuracy: 0.1755\n"
     ]
    },
    {
     "name": "stderr",
     "output_type": "stream",
     "text": [
      "Validating: 100%|██████████| 2/2 [00:00<00:00, 125.76it/s]\n"
     ]
    },
    {
     "name": "stdout",
     "output_type": "stream",
     "text": [
      "Val Emotion Loss: 2.4554, Val Accuracy: 0.0426\n",
      "Epoch [47/100]\n"
     ]
    },
    {
     "name": "stderr",
     "output_type": "stream",
     "text": [
      "Training: 100%|██████████| 6/6 [00:00<00:00, 48.78it/s]\n"
     ]
    },
    {
     "name": "stdout",
     "output_type": "stream",
     "text": [
      "Train Emotion Loss: 2.6781, Train Accuracy: 0.1543\n"
     ]
    },
    {
     "name": "stderr",
     "output_type": "stream",
     "text": [
      "Validating: 100%|██████████| 2/2 [00:00<00:00, 907.66it/s]\n"
     ]
    },
    {
     "name": "stdout",
     "output_type": "stream",
     "text": [
      "Val Emotion Loss: 3.1324, Val Accuracy: 0.0213\n",
      "Epoch [48/100]\n"
     ]
    },
    {
     "name": "stderr",
     "output_type": "stream",
     "text": [
      "Training: 100%|██████████| 6/6 [00:00<00:00, 43.31it/s]\n"
     ]
    },
    {
     "name": "stdout",
     "output_type": "stream",
     "text": [
      "Train Emotion Loss: 5.5567, Train Accuracy: 0.2340\n"
     ]
    },
    {
     "name": "stderr",
     "output_type": "stream",
     "text": [
      "Validating: 100%|██████████| 2/2 [00:00<00:00, 481.38it/s]\n"
     ]
    },
    {
     "name": "stdout",
     "output_type": "stream",
     "text": [
      "Val Emotion Loss: 8.2589, Val Accuracy: 0.0851\n",
      "Epoch [49/100]\n"
     ]
    },
    {
     "name": "stderr",
     "output_type": "stream",
     "text": [
      "Training: 100%|██████████| 6/6 [00:00<00:00, 47.79it/s]\n"
     ]
    },
    {
     "name": "stdout",
     "output_type": "stream",
     "text": [
      "Train Emotion Loss: 8.0682, Train Accuracy: 0.2713\n"
     ]
    },
    {
     "name": "stderr",
     "output_type": "stream",
     "text": [
      "Validating: 100%|██████████| 2/2 [00:00<00:00, 285.41it/s]\n"
     ]
    },
    {
     "name": "stdout",
     "output_type": "stream",
     "text": [
      "Val Emotion Loss: 3.5721, Val Accuracy: 0.4468\n",
      "Epoch [50/100]\n"
     ]
    },
    {
     "name": "stderr",
     "output_type": "stream",
     "text": [
      "Training: 100%|██████████| 6/6 [00:00<00:00, 44.90it/s]\n"
     ]
    },
    {
     "name": "stdout",
     "output_type": "stream",
     "text": [
      "Train Emotion Loss: 5.4143, Train Accuracy: 0.2394\n"
     ]
    },
    {
     "name": "stderr",
     "output_type": "stream",
     "text": [
      "Validating: 100%|██████████| 2/2 [00:00<00:00, 210.17it/s]\n"
     ]
    },
    {
     "name": "stdout",
     "output_type": "stream",
     "text": [
      "Val Emotion Loss: 5.5369, Val Accuracy: 0.1489\n",
      "Epoch [51/100]\n"
     ]
    },
    {
     "name": "stderr",
     "output_type": "stream",
     "text": [
      "Training: 100%|██████████| 6/6 [00:00<00:00, 44.97it/s]\n"
     ]
    },
    {
     "name": "stdout",
     "output_type": "stream",
     "text": [
      "Train Emotion Loss: 3.1915, Train Accuracy: 0.2394\n"
     ]
    },
    {
     "name": "stderr",
     "output_type": "stream",
     "text": [
      "Validating: 100%|██████████| 2/2 [00:00<00:00, 150.00it/s]\n"
     ]
    },
    {
     "name": "stdout",
     "output_type": "stream",
     "text": [
      "Val Emotion Loss: 2.5046, Val Accuracy: 0.3617\n",
      "Epoch [52/100]\n"
     ]
    },
    {
     "name": "stderr",
     "output_type": "stream",
     "text": [
      "Training: 100%|██████████| 6/6 [00:00<00:00, 42.37it/s]\n"
     ]
    },
    {
     "name": "stdout",
     "output_type": "stream",
     "text": [
      "Train Emotion Loss: 2.9540, Train Accuracy: 0.2926\n"
     ]
    },
    {
     "name": "stderr",
     "output_type": "stream",
     "text": [
      "Validating: 100%|██████████| 2/2 [00:00<00:00, 192.20it/s]\n"
     ]
    },
    {
     "name": "stdout",
     "output_type": "stream",
     "text": [
      "Val Emotion Loss: 1.8400, Val Accuracy: 0.3404\n",
      "Epoch [53/100]\n"
     ]
    },
    {
     "name": "stderr",
     "output_type": "stream",
     "text": [
      "Training: 100%|██████████| 6/6 [00:00<00:00, 46.48it/s]\n"
     ]
    },
    {
     "name": "stdout",
     "output_type": "stream",
     "text": [
      "Train Emotion Loss: 3.5037, Train Accuracy: 0.2819\n"
     ]
    },
    {
     "name": "stderr",
     "output_type": "stream",
     "text": [
      "Validating: 100%|██████████| 2/2 [00:00<00:00, 179.89it/s]\n"
     ]
    },
    {
     "name": "stdout",
     "output_type": "stream",
     "text": [
      "Val Emotion Loss: 3.7945, Val Accuracy: 0.2340\n",
      "Epoch [54/100]\n"
     ]
    },
    {
     "name": "stderr",
     "output_type": "stream",
     "text": [
      "Training: 100%|██████████| 6/6 [00:00<00:00, 47.72it/s]\n"
     ]
    },
    {
     "name": "stdout",
     "output_type": "stream",
     "text": [
      "Train Emotion Loss: 2.2081, Train Accuracy: 0.2606\n"
     ]
    },
    {
     "name": "stderr",
     "output_type": "stream",
     "text": [
      "Validating: 100%|██████████| 2/2 [00:00<00:00, 187.93it/s]\n"
     ]
    },
    {
     "name": "stdout",
     "output_type": "stream",
     "text": [
      "Val Emotion Loss: 1.7176, Val Accuracy: 0.4468\n",
      "Epoch [55/100]\n"
     ]
    },
    {
     "name": "stderr",
     "output_type": "stream",
     "text": [
      "Training: 100%|██████████| 6/6 [00:00<00:00, 46.77it/s]\n"
     ]
    },
    {
     "name": "stdout",
     "output_type": "stream",
     "text": [
      "Train Emotion Loss: 1.7457, Train Accuracy: 0.2872\n"
     ]
    },
    {
     "name": "stderr",
     "output_type": "stream",
     "text": [
      "Validating: 100%|██████████| 2/2 [00:00<00:00, 141.56it/s]\n"
     ]
    },
    {
     "name": "stdout",
     "output_type": "stream",
     "text": [
      "Val Emotion Loss: 1.7162, Val Accuracy: 0.4468\n",
      "Epoch [56/100]\n"
     ]
    },
    {
     "name": "stderr",
     "output_type": "stream",
     "text": [
      "Training: 100%|██████████| 6/6 [00:00<00:00, 45.82it/s]\n"
     ]
    },
    {
     "name": "stdout",
     "output_type": "stream",
     "text": [
      "Train Emotion Loss: 1.8407, Train Accuracy: 0.3032\n"
     ]
    },
    {
     "name": "stderr",
     "output_type": "stream",
     "text": [
      "Validating: 100%|██████████| 2/2 [00:00<00:00, 185.59it/s]\n"
     ]
    },
    {
     "name": "stdout",
     "output_type": "stream",
     "text": [
      "Val Emotion Loss: 1.7147, Val Accuracy: 0.4468\n",
      "Epoch [57/100]\n"
     ]
    },
    {
     "name": "stderr",
     "output_type": "stream",
     "text": [
      "Training: 100%|██████████| 6/6 [00:00<00:00, 44.91it/s]\n"
     ]
    },
    {
     "name": "stdout",
     "output_type": "stream",
     "text": [
      "Train Emotion Loss: 1.7436, Train Accuracy: 0.2872\n"
     ]
    },
    {
     "name": "stderr",
     "output_type": "stream",
     "text": [
      "Validating: 100%|██████████| 2/2 [00:00<00:00, 170.06it/s]\n"
     ]
    },
    {
     "name": "stdout",
     "output_type": "stream",
     "text": [
      "Val Emotion Loss: 1.7130, Val Accuracy: 0.4468\n",
      "Epoch [58/100]\n"
     ]
    },
    {
     "name": "stderr",
     "output_type": "stream",
     "text": [
      "Training: 100%|██████████| 6/6 [00:00<00:00, 45.64it/s]\n"
     ]
    },
    {
     "name": "stdout",
     "output_type": "stream",
     "text": [
      "Train Emotion Loss: 1.7420, Train Accuracy: 0.2872\n"
     ]
    },
    {
     "name": "stderr",
     "output_type": "stream",
     "text": [
      "Validating: 100%|██████████| 2/2 [00:00<00:00, 191.70it/s]\n"
     ]
    },
    {
     "name": "stdout",
     "output_type": "stream",
     "text": [
      "Val Emotion Loss: 1.7111, Val Accuracy: 0.4468\n",
      "Epoch [59/100]\n"
     ]
    },
    {
     "name": "stderr",
     "output_type": "stream",
     "text": [
      "Training: 100%|██████████| 6/6 [00:00<00:00, 43.85it/s]\n"
     ]
    },
    {
     "name": "stdout",
     "output_type": "stream",
     "text": [
      "Train Emotion Loss: 1.7412, Train Accuracy: 0.2872\n"
     ]
    },
    {
     "name": "stderr",
     "output_type": "stream",
     "text": [
      "Validating: 100%|██████████| 2/2 [00:00<00:00, 204.65it/s]\n"
     ]
    },
    {
     "name": "stdout",
     "output_type": "stream",
     "text": [
      "Val Emotion Loss: 1.7092, Val Accuracy: 0.4468\n",
      "Epoch [60/100]\n"
     ]
    },
    {
     "name": "stderr",
     "output_type": "stream",
     "text": [
      "Training: 100%|██████████| 6/6 [00:00<00:00, 40.60it/s]\n"
     ]
    },
    {
     "name": "stdout",
     "output_type": "stream",
     "text": [
      "Train Emotion Loss: 1.7407, Train Accuracy: 0.2872\n"
     ]
    },
    {
     "name": "stderr",
     "output_type": "stream",
     "text": [
      "Validating: 100%|██████████| 2/2 [00:00<00:00, 188.61it/s]\n"
     ]
    },
    {
     "name": "stdout",
     "output_type": "stream",
     "text": [
      "Val Emotion Loss: 1.7072, Val Accuracy: 0.4468\n",
      "Epoch [61/100]\n"
     ]
    },
    {
     "name": "stderr",
     "output_type": "stream",
     "text": [
      "Training: 100%|██████████| 6/6 [00:00<00:00, 47.90it/s]\n"
     ]
    },
    {
     "name": "stdout",
     "output_type": "stream",
     "text": [
      "Train Emotion Loss: 1.7383, Train Accuracy: 0.2872\n"
     ]
    },
    {
     "name": "stderr",
     "output_type": "stream",
     "text": [
      "Validating: 100%|██████████| 2/2 [00:00<00:00, 118.71it/s]\n"
     ]
    },
    {
     "name": "stdout",
     "output_type": "stream",
     "text": [
      "Val Emotion Loss: 1.7052, Val Accuracy: 0.4468\n",
      "Epoch [62/100]\n"
     ]
    },
    {
     "name": "stderr",
     "output_type": "stream",
     "text": [
      "Training: 100%|██████████| 6/6 [00:00<00:00, 52.77it/s]\n"
     ]
    },
    {
     "name": "stdout",
     "output_type": "stream",
     "text": [
      "Train Emotion Loss: 1.7366, Train Accuracy: 0.2872\n"
     ]
    },
    {
     "name": "stderr",
     "output_type": "stream",
     "text": [
      "Validating: 100%|██████████| 2/2 [00:00<00:00, 291.70it/s]\n"
     ]
    },
    {
     "name": "stdout",
     "output_type": "stream",
     "text": [
      "Val Emotion Loss: 1.7033, Val Accuracy: 0.4468\n",
      "Epoch [63/100]\n"
     ]
    },
    {
     "name": "stderr",
     "output_type": "stream",
     "text": [
      "Training: 100%|██████████| 6/6 [00:00<00:00, 42.67it/s]\n"
     ]
    },
    {
     "name": "stdout",
     "output_type": "stream",
     "text": [
      "Train Emotion Loss: 1.7347, Train Accuracy: 0.2872\n"
     ]
    },
    {
     "name": "stderr",
     "output_type": "stream",
     "text": [
      "Validating: 100%|██████████| 2/2 [00:00<00:00, 242.78it/s]\n"
     ]
    },
    {
     "name": "stdout",
     "output_type": "stream",
     "text": [
      "Val Emotion Loss: 1.7014, Val Accuracy: 0.4468\n",
      "Epoch [64/100]\n"
     ]
    },
    {
     "name": "stderr",
     "output_type": "stream",
     "text": [
      "Training: 100%|██████████| 6/6 [00:00<00:00, 45.51it/s]\n"
     ]
    },
    {
     "name": "stdout",
     "output_type": "stream",
     "text": [
      "Train Emotion Loss: 1.7338, Train Accuracy: 0.2872\n"
     ]
    },
    {
     "name": "stderr",
     "output_type": "stream",
     "text": [
      "Validating: 100%|██████████| 2/2 [00:00<00:00, 288.07it/s]\n"
     ]
    },
    {
     "name": "stdout",
     "output_type": "stream",
     "text": [
      "Val Emotion Loss: 1.6994, Val Accuracy: 0.4468\n",
      "Epoch [65/100]\n"
     ]
    },
    {
     "name": "stderr",
     "output_type": "stream",
     "text": [
      "Training: 100%|██████████| 6/6 [00:00<00:00, 52.59it/s]\n"
     ]
    },
    {
     "name": "stdout",
     "output_type": "stream",
     "text": [
      "Train Emotion Loss: 1.7325, Train Accuracy: 0.2872\n"
     ]
    },
    {
     "name": "stderr",
     "output_type": "stream",
     "text": [
      "Validating: 100%|██████████| 2/2 [00:00<00:00, 535.19it/s]\n"
     ]
    },
    {
     "name": "stdout",
     "output_type": "stream",
     "text": [
      "Val Emotion Loss: 1.6975, Val Accuracy: 0.4468\n",
      "Epoch [66/100]\n"
     ]
    },
    {
     "name": "stderr",
     "output_type": "stream",
     "text": [
      "Training: 100%|██████████| 6/6 [00:00<00:00, 49.25it/s]\n"
     ]
    },
    {
     "name": "stdout",
     "output_type": "stream",
     "text": [
      "Train Emotion Loss: 1.7312, Train Accuracy: 0.2872\n"
     ]
    },
    {
     "name": "stderr",
     "output_type": "stream",
     "text": [
      "Validating: 100%|██████████| 2/2 [00:00<00:00, 171.69it/s]\n"
     ]
    },
    {
     "name": "stdout",
     "output_type": "stream",
     "text": [
      "Val Emotion Loss: 1.6955, Val Accuracy: 0.4468\n",
      "Epoch [67/100]\n"
     ]
    },
    {
     "name": "stderr",
     "output_type": "stream",
     "text": [
      "Training: 100%|██████████| 6/6 [00:00<00:00, 50.87it/s]\n"
     ]
    },
    {
     "name": "stdout",
     "output_type": "stream",
     "text": [
      "Train Emotion Loss: 1.7301, Train Accuracy: 0.2872\n"
     ]
    },
    {
     "name": "stderr",
     "output_type": "stream",
     "text": [
      "Validating: 100%|██████████| 2/2 [00:00<00:00, 84.00it/s]\n"
     ]
    },
    {
     "name": "stdout",
     "output_type": "stream",
     "text": [
      "Val Emotion Loss: 1.6936, Val Accuracy: 0.4468\n",
      "Epoch [68/100]\n"
     ]
    },
    {
     "name": "stderr",
     "output_type": "stream",
     "text": [
      "Training: 100%|██████████| 6/6 [00:00<00:00, 42.55it/s]\n"
     ]
    },
    {
     "name": "stdout",
     "output_type": "stream",
     "text": [
      "Train Emotion Loss: 1.7296, Train Accuracy: 0.2872\n"
     ]
    },
    {
     "name": "stderr",
     "output_type": "stream",
     "text": [
      "Validating: 100%|██████████| 2/2 [00:00<00:00, 143.97it/s]\n"
     ]
    },
    {
     "name": "stdout",
     "output_type": "stream",
     "text": [
      "Val Emotion Loss: 1.6917, Val Accuracy: 0.4468\n",
      "Epoch [69/100]\n"
     ]
    },
    {
     "name": "stderr",
     "output_type": "stream",
     "text": [
      "Training: 100%|██████████| 6/6 [00:00<00:00, 42.86it/s]\n"
     ]
    },
    {
     "name": "stdout",
     "output_type": "stream",
     "text": [
      "Train Emotion Loss: 1.7269, Train Accuracy: 0.2872\n"
     ]
    },
    {
     "name": "stderr",
     "output_type": "stream",
     "text": [
      "Validating: 100%|██████████| 2/2 [00:00<00:00, 200.72it/s]\n"
     ]
    },
    {
     "name": "stdout",
     "output_type": "stream",
     "text": [
      "Val Emotion Loss: 1.6898, Val Accuracy: 0.4468\n",
      "Epoch [70/100]\n"
     ]
    },
    {
     "name": "stderr",
     "output_type": "stream",
     "text": [
      "Training: 100%|██████████| 6/6 [00:00<00:00, 50.59it/s]\n"
     ]
    },
    {
     "name": "stdout",
     "output_type": "stream",
     "text": [
      "Train Emotion Loss: 1.7257, Train Accuracy: 0.2872\n"
     ]
    },
    {
     "name": "stderr",
     "output_type": "stream",
     "text": [
      "Validating: 100%|██████████| 2/2 [00:00<00:00, 90.96it/s]\n"
     ]
    },
    {
     "name": "stdout",
     "output_type": "stream",
     "text": [
      "Val Emotion Loss: 1.6880, Val Accuracy: 0.4468\n",
      "Epoch [71/100]\n"
     ]
    },
    {
     "name": "stderr",
     "output_type": "stream",
     "text": [
      "Training: 100%|██████████| 6/6 [00:00<00:00, 52.26it/s]\n"
     ]
    },
    {
     "name": "stdout",
     "output_type": "stream",
     "text": [
      "Train Emotion Loss: 1.7249, Train Accuracy: 0.2872\n"
     ]
    },
    {
     "name": "stderr",
     "output_type": "stream",
     "text": [
      "Validating: 100%|██████████| 2/2 [00:00<00:00, 272.91it/s]\n"
     ]
    },
    {
     "name": "stdout",
     "output_type": "stream",
     "text": [
      "Val Emotion Loss: 1.6861, Val Accuracy: 0.4468\n",
      "Epoch [72/100]\n"
     ]
    },
    {
     "name": "stderr",
     "output_type": "stream",
     "text": [
      "Training: 100%|██████████| 6/6 [00:00<00:00, 45.32it/s]\n"
     ]
    },
    {
     "name": "stdout",
     "output_type": "stream",
     "text": [
      "Train Emotion Loss: 1.7236, Train Accuracy: 0.2872\n"
     ]
    },
    {
     "name": "stderr",
     "output_type": "stream",
     "text": [
      "Validating: 100%|██████████| 2/2 [00:00<00:00, 185.05it/s]\n"
     ]
    },
    {
     "name": "stdout",
     "output_type": "stream",
     "text": [
      "Val Emotion Loss: 1.6842, Val Accuracy: 0.4468\n",
      "Epoch [73/100]\n"
     ]
    },
    {
     "name": "stderr",
     "output_type": "stream",
     "text": [
      "Training: 100%|██████████| 6/6 [00:00<00:00, 49.94it/s]\n"
     ]
    },
    {
     "name": "stdout",
     "output_type": "stream",
     "text": [
      "Train Emotion Loss: 1.7217, Train Accuracy: 0.2872\n"
     ]
    },
    {
     "name": "stderr",
     "output_type": "stream",
     "text": [
      "Validating: 100%|██████████| 2/2 [00:00<00:00, 84.08it/s]\n"
     ]
    },
    {
     "name": "stdout",
     "output_type": "stream",
     "text": [
      "Val Emotion Loss: 1.6824, Val Accuracy: 0.4468\n",
      "Epoch [74/100]\n"
     ]
    },
    {
     "name": "stderr",
     "output_type": "stream",
     "text": [
      "Training: 100%|██████████| 6/6 [00:00<00:00, 46.77it/s]\n"
     ]
    },
    {
     "name": "stdout",
     "output_type": "stream",
     "text": [
      "Train Emotion Loss: 1.7206, Train Accuracy: 0.2872\n"
     ]
    },
    {
     "name": "stderr",
     "output_type": "stream",
     "text": [
      "Validating: 100%|██████████| 2/2 [00:00<00:00, 144.31it/s]\n"
     ]
    },
    {
     "name": "stdout",
     "output_type": "stream",
     "text": [
      "Val Emotion Loss: 1.6806, Val Accuracy: 0.4468\n",
      "Epoch [75/100]\n"
     ]
    },
    {
     "name": "stderr",
     "output_type": "stream",
     "text": [
      "Training: 100%|██████████| 6/6 [00:00<00:00, 45.88it/s]\n"
     ]
    },
    {
     "name": "stdout",
     "output_type": "stream",
     "text": [
      "Train Emotion Loss: 1.7197, Train Accuracy: 0.2872\n"
     ]
    },
    {
     "name": "stderr",
     "output_type": "stream",
     "text": [
      "Validating: 100%|██████████| 2/2 [00:00<00:00, 196.85it/s]\n"
     ]
    },
    {
     "name": "stdout",
     "output_type": "stream",
     "text": [
      "Val Emotion Loss: 1.6788, Val Accuracy: 0.4468\n",
      "Epoch [76/100]\n"
     ]
    },
    {
     "name": "stderr",
     "output_type": "stream",
     "text": [
      "Training: 100%|██████████| 6/6 [00:00<00:00, 41.14it/s]\n"
     ]
    },
    {
     "name": "stdout",
     "output_type": "stream",
     "text": [
      "Train Emotion Loss: 1.7187, Train Accuracy: 0.2872\n"
     ]
    },
    {
     "name": "stderr",
     "output_type": "stream",
     "text": [
      "Validating: 100%|██████████| 2/2 [00:00<00:00, 133.01it/s]\n"
     ]
    },
    {
     "name": "stdout",
     "output_type": "stream",
     "text": [
      "Val Emotion Loss: 1.6770, Val Accuracy: 0.4468\n",
      "Epoch [77/100]\n"
     ]
    },
    {
     "name": "stderr",
     "output_type": "stream",
     "text": [
      "Training: 100%|██████████| 6/6 [00:00<00:00, 45.38it/s]\n"
     ]
    },
    {
     "name": "stdout",
     "output_type": "stream",
     "text": [
      "Train Emotion Loss: 1.7166, Train Accuracy: 0.2872\n"
     ]
    },
    {
     "name": "stderr",
     "output_type": "stream",
     "text": [
      "Validating: 100%|██████████| 2/2 [00:00<00:00, 155.36it/s]\n"
     ]
    },
    {
     "name": "stdout",
     "output_type": "stream",
     "text": [
      "Val Emotion Loss: 1.6752, Val Accuracy: 0.4468\n",
      "Epoch [78/100]\n"
     ]
    },
    {
     "name": "stderr",
     "output_type": "stream",
     "text": [
      "Training: 100%|██████████| 6/6 [00:00<00:00, 44.06it/s]\n"
     ]
    },
    {
     "name": "stdout",
     "output_type": "stream",
     "text": [
      "Train Emotion Loss: 1.7165, Train Accuracy: 0.2872\n"
     ]
    },
    {
     "name": "stderr",
     "output_type": "stream",
     "text": [
      "Validating: 100%|██████████| 2/2 [00:00<00:00, 184.39it/s]\n"
     ]
    },
    {
     "name": "stdout",
     "output_type": "stream",
     "text": [
      "Val Emotion Loss: 1.6734, Val Accuracy: 0.4468\n",
      "Epoch [79/100]\n"
     ]
    },
    {
     "name": "stderr",
     "output_type": "stream",
     "text": [
      "Training: 100%|██████████| 6/6 [00:00<00:00, 47.79it/s]\n"
     ]
    },
    {
     "name": "stdout",
     "output_type": "stream",
     "text": [
      "Train Emotion Loss: 1.7159, Train Accuracy: 0.2872\n"
     ]
    },
    {
     "name": "stderr",
     "output_type": "stream",
     "text": [
      "Validating: 100%|██████████| 2/2 [00:00<00:00, 178.66it/s]\n"
     ]
    },
    {
     "name": "stdout",
     "output_type": "stream",
     "text": [
      "Val Emotion Loss: 1.6717, Val Accuracy: 0.4468\n",
      "Epoch [80/100]\n"
     ]
    },
    {
     "name": "stderr",
     "output_type": "stream",
     "text": [
      "Training: 100%|██████████| 6/6 [00:00<00:00, 46.86it/s]\n"
     ]
    },
    {
     "name": "stdout",
     "output_type": "stream",
     "text": [
      "Train Emotion Loss: 1.7143, Train Accuracy: 0.2872\n"
     ]
    },
    {
     "name": "stderr",
     "output_type": "stream",
     "text": [
      "Validating: 100%|██████████| 2/2 [00:00<00:00, 188.72it/s]\n"
     ]
    },
    {
     "name": "stdout",
     "output_type": "stream",
     "text": [
      "Val Emotion Loss: 1.6700, Val Accuracy: 0.4468\n",
      "Epoch [81/100]\n"
     ]
    },
    {
     "name": "stderr",
     "output_type": "stream",
     "text": [
      "Training: 100%|██████████| 6/6 [00:00<00:00, 50.69it/s]\n"
     ]
    },
    {
     "name": "stdout",
     "output_type": "stream",
     "text": [
      "Train Emotion Loss: 1.7113, Train Accuracy: 0.2872\n"
     ]
    },
    {
     "name": "stderr",
     "output_type": "stream",
     "text": [
      "Validating: 100%|██████████| 2/2 [00:00<00:00, 183.54it/s]\n"
     ]
    },
    {
     "name": "stdout",
     "output_type": "stream",
     "text": [
      "Val Emotion Loss: 1.6683, Val Accuracy: 0.4468\n",
      "Epoch [82/100]\n"
     ]
    },
    {
     "name": "stderr",
     "output_type": "stream",
     "text": [
      "Training: 100%|██████████| 6/6 [00:00<00:00, 48.32it/s]\n"
     ]
    },
    {
     "name": "stdout",
     "output_type": "stream",
     "text": [
      "Train Emotion Loss: 1.7110, Train Accuracy: 0.2872\n"
     ]
    },
    {
     "name": "stderr",
     "output_type": "stream",
     "text": [
      "Validating: 100%|██████████| 2/2 [00:00<00:00, 204.27it/s]\n"
     ]
    },
    {
     "name": "stdout",
     "output_type": "stream",
     "text": [
      "Val Emotion Loss: 1.6666, Val Accuracy: 0.4468\n",
      "Epoch [83/100]\n"
     ]
    },
    {
     "name": "stderr",
     "output_type": "stream",
     "text": [
      "Training: 100%|██████████| 6/6 [00:00<00:00, 49.73it/s]\n"
     ]
    },
    {
     "name": "stdout",
     "output_type": "stream",
     "text": [
      "Train Emotion Loss: 1.7099, Train Accuracy: 0.2872\n"
     ]
    },
    {
     "name": "stderr",
     "output_type": "stream",
     "text": [
      "Validating: 100%|██████████| 2/2 [00:00<00:00, 174.01it/s]\n"
     ]
    },
    {
     "name": "stdout",
     "output_type": "stream",
     "text": [
      "Val Emotion Loss: 1.6649, Val Accuracy: 0.4468\n",
      "Epoch [84/100]\n"
     ]
    },
    {
     "name": "stderr",
     "output_type": "stream",
     "text": [
      "Training: 100%|██████████| 6/6 [00:00<00:00, 42.78it/s]\n"
     ]
    },
    {
     "name": "stdout",
     "output_type": "stream",
     "text": [
      "Train Emotion Loss: 1.7090, Train Accuracy: 0.2872\n"
     ]
    },
    {
     "name": "stderr",
     "output_type": "stream",
     "text": [
      "Validating: 100%|██████████| 2/2 [00:00<00:00, 128.84it/s]\n"
     ]
    },
    {
     "name": "stdout",
     "output_type": "stream",
     "text": [
      "Val Emotion Loss: 1.6633, Val Accuracy: 0.4468\n",
      "Epoch [85/100]\n"
     ]
    },
    {
     "name": "stderr",
     "output_type": "stream",
     "text": [
      "Training: 100%|██████████| 6/6 [00:00<00:00, 44.44it/s]\n"
     ]
    },
    {
     "name": "stdout",
     "output_type": "stream",
     "text": [
      "Train Emotion Loss: 1.7080, Train Accuracy: 0.2872\n"
     ]
    },
    {
     "name": "stderr",
     "output_type": "stream",
     "text": [
      "Validating: 100%|██████████| 2/2 [00:00<00:00, 184.04it/s]\n"
     ]
    },
    {
     "name": "stdout",
     "output_type": "stream",
     "text": [
      "Val Emotion Loss: 1.6616, Val Accuracy: 0.4468\n",
      "Epoch [86/100]\n"
     ]
    },
    {
     "name": "stderr",
     "output_type": "stream",
     "text": [
      "Training: 100%|██████████| 6/6 [00:00<00:00, 46.04it/s]\n"
     ]
    },
    {
     "name": "stdout",
     "output_type": "stream",
     "text": [
      "Train Emotion Loss: 1.7068, Train Accuracy: 0.2872\n"
     ]
    },
    {
     "name": "stderr",
     "output_type": "stream",
     "text": [
      "Validating: 100%|██████████| 2/2 [00:00<00:00, 190.33it/s]\n"
     ]
    },
    {
     "name": "stdout",
     "output_type": "stream",
     "text": [
      "Val Emotion Loss: 1.6598, Val Accuracy: 0.4468\n",
      "Epoch [87/100]\n"
     ]
    },
    {
     "name": "stderr",
     "output_type": "stream",
     "text": [
      "Training: 100%|██████████| 6/6 [00:00<00:00, 48.70it/s]\n"
     ]
    },
    {
     "name": "stdout",
     "output_type": "stream",
     "text": [
      "Train Emotion Loss: 1.7044, Train Accuracy: 0.2872\n"
     ]
    },
    {
     "name": "stderr",
     "output_type": "stream",
     "text": [
      "Validating: 100%|██████████| 2/2 [00:00<00:00, 81.41it/s]\n"
     ]
    },
    {
     "name": "stdout",
     "output_type": "stream",
     "text": [
      "Val Emotion Loss: 1.6583, Val Accuracy: 0.4468\n",
      "Epoch [88/100]\n"
     ]
    },
    {
     "name": "stderr",
     "output_type": "stream",
     "text": [
      "Training: 100%|██████████| 6/6 [00:00<00:00, 49.82it/s]\n"
     ]
    },
    {
     "name": "stdout",
     "output_type": "stream",
     "text": [
      "Train Emotion Loss: 1.7054, Train Accuracy: 0.2872\n"
     ]
    },
    {
     "name": "stderr",
     "output_type": "stream",
     "text": [
      "Validating: 100%|██████████| 2/2 [00:00<00:00, 84.47it/s]\n"
     ]
    },
    {
     "name": "stdout",
     "output_type": "stream",
     "text": [
      "Val Emotion Loss: 1.6566, Val Accuracy: 0.4468\n",
      "Epoch [89/100]\n"
     ]
    },
    {
     "name": "stderr",
     "output_type": "stream",
     "text": [
      "Training: 100%|██████████| 6/6 [00:00<00:00, 46.50it/s]\n"
     ]
    },
    {
     "name": "stdout",
     "output_type": "stream",
     "text": [
      "Train Emotion Loss: 1.7024, Train Accuracy: 0.2872\n"
     ]
    },
    {
     "name": "stderr",
     "output_type": "stream",
     "text": [
      "Validating: 100%|██████████| 2/2 [00:00<00:00, 960.01it/s]\n"
     ]
    },
    {
     "name": "stdout",
     "output_type": "stream",
     "text": [
      "Val Emotion Loss: 1.6551, Val Accuracy: 0.4468\n",
      "Epoch [90/100]\n"
     ]
    },
    {
     "name": "stderr",
     "output_type": "stream",
     "text": [
      "Training: 100%|██████████| 6/6 [00:00<00:00, 45.85it/s]\n"
     ]
    },
    {
     "name": "stdout",
     "output_type": "stream",
     "text": [
      "Train Emotion Loss: 1.7032, Train Accuracy: 0.2872\n"
     ]
    },
    {
     "name": "stderr",
     "output_type": "stream",
     "text": [
      "Validating: 100%|██████████| 2/2 [00:00<00:00, 84.05it/s]\n"
     ]
    },
    {
     "name": "stdout",
     "output_type": "stream",
     "text": [
      "Val Emotion Loss: 1.6534, Val Accuracy: 0.4468\n",
      "Epoch [91/100]\n"
     ]
    },
    {
     "name": "stderr",
     "output_type": "stream",
     "text": [
      "Training: 100%|██████████| 6/6 [00:00<00:00, 47.45it/s]\n"
     ]
    },
    {
     "name": "stdout",
     "output_type": "stream",
     "text": [
      "Train Emotion Loss: 1.7007, Train Accuracy: 0.2872\n"
     ]
    },
    {
     "name": "stderr",
     "output_type": "stream",
     "text": [
      "Validating: 100%|██████████| 2/2 [00:00<00:00, 323.60it/s]\n"
     ]
    },
    {
     "name": "stdout",
     "output_type": "stream",
     "text": [
      "Val Emotion Loss: 1.6519, Val Accuracy: 0.4468\n",
      "Epoch [92/100]\n"
     ]
    },
    {
     "name": "stderr",
     "output_type": "stream",
     "text": [
      "Training: 100%|██████████| 6/6 [00:00<00:00, 41.10it/s]\n"
     ]
    },
    {
     "name": "stdout",
     "output_type": "stream",
     "text": [
      "Train Emotion Loss: 1.7010, Train Accuracy: 0.2872\n"
     ]
    },
    {
     "name": "stderr",
     "output_type": "stream",
     "text": [
      "Validating: 100%|██████████| 2/2 [00:00<?, ?it/s]\n"
     ]
    },
    {
     "name": "stdout",
     "output_type": "stream",
     "text": [
      "Val Emotion Loss: 1.6503, Val Accuracy: 0.4468\n",
      "Epoch [93/100]\n"
     ]
    },
    {
     "name": "stderr",
     "output_type": "stream",
     "text": [
      "Training: 100%|██████████| 6/6 [00:00<00:00, 48.19it/s]\n"
     ]
    },
    {
     "name": "stdout",
     "output_type": "stream",
     "text": [
      "Train Emotion Loss: 1.6996, Train Accuracy: 0.2872\n"
     ]
    },
    {
     "name": "stderr",
     "output_type": "stream",
     "text": [
      "Validating: 100%|██████████| 2/2 [00:00<00:00, 848.19it/s]\n"
     ]
    },
    {
     "name": "stdout",
     "output_type": "stream",
     "text": [
      "Val Emotion Loss: 1.6487, Val Accuracy: 0.4468\n",
      "Epoch [94/100]\n"
     ]
    },
    {
     "name": "stderr",
     "output_type": "stream",
     "text": [
      "Training: 100%|██████████| 6/6 [00:00<00:00, 46.82it/s]\n"
     ]
    },
    {
     "name": "stdout",
     "output_type": "stream",
     "text": [
      "Train Emotion Loss: 1.6991, Train Accuracy: 0.2872\n"
     ]
    },
    {
     "name": "stderr",
     "output_type": "stream",
     "text": [
      "Validating: 100%|██████████| 2/2 [00:00<00:00, 77.43it/s]\n"
     ]
    },
    {
     "name": "stdout",
     "output_type": "stream",
     "text": [
      "Val Emotion Loss: 1.6472, Val Accuracy: 0.4468\n",
      "Epoch [95/100]\n"
     ]
    },
    {
     "name": "stderr",
     "output_type": "stream",
     "text": [
      "Training: 100%|██████████| 6/6 [00:00<00:00, 44.60it/s]\n"
     ]
    },
    {
     "name": "stdout",
     "output_type": "stream",
     "text": [
      "Train Emotion Loss: 1.6973, Train Accuracy: 0.2872\n"
     ]
    },
    {
     "name": "stderr",
     "output_type": "stream",
     "text": [
      "Validating: 100%|██████████| 2/2 [00:00<00:00, 177.84it/s]\n"
     ]
    },
    {
     "name": "stdout",
     "output_type": "stream",
     "text": [
      "Val Emotion Loss: 1.6457, Val Accuracy: 0.4468\n",
      "Epoch [96/100]\n"
     ]
    },
    {
     "name": "stderr",
     "output_type": "stream",
     "text": [
      "Training: 100%|██████████| 6/6 [00:00<00:00, 49.53it/s]\n"
     ]
    },
    {
     "name": "stdout",
     "output_type": "stream",
     "text": [
      "Train Emotion Loss: 1.6971, Train Accuracy: 0.2872\n"
     ]
    },
    {
     "name": "stderr",
     "output_type": "stream",
     "text": [
      "Validating: 100%|██████████| 2/2 [00:00<00:00, 84.29it/s]\n"
     ]
    },
    {
     "name": "stdout",
     "output_type": "stream",
     "text": [
      "Val Emotion Loss: 1.6441, Val Accuracy: 0.4468\n",
      "Epoch [97/100]\n"
     ]
    },
    {
     "name": "stderr",
     "output_type": "stream",
     "text": [
      "Training: 100%|██████████| 6/6 [00:00<00:00, 45.45it/s]\n"
     ]
    },
    {
     "name": "stdout",
     "output_type": "stream",
     "text": [
      "Train Emotion Loss: 1.6948, Train Accuracy: 0.2872\n"
     ]
    },
    {
     "name": "stderr",
     "output_type": "stream",
     "text": [
      "Validating: 100%|██████████| 2/2 [00:00<00:00, 222.86it/s]\n"
     ]
    },
    {
     "name": "stdout",
     "output_type": "stream",
     "text": [
      "Val Emotion Loss: 1.6427, Val Accuracy: 0.4468\n",
      "Epoch [98/100]\n"
     ]
    },
    {
     "name": "stderr",
     "output_type": "stream",
     "text": [
      "Training: 100%|██████████| 6/6 [00:00<00:00, 47.85it/s]\n"
     ]
    },
    {
     "name": "stdout",
     "output_type": "stream",
     "text": [
      "Train Emotion Loss: 1.6954, Train Accuracy: 0.2872\n"
     ]
    },
    {
     "name": "stderr",
     "output_type": "stream",
     "text": [
      "Validating: 100%|██████████| 2/2 [00:00<00:00, 288.52it/s]\n"
     ]
    },
    {
     "name": "stdout",
     "output_type": "stream",
     "text": [
      "Val Emotion Loss: 1.6412, Val Accuracy: 0.4468\n",
      "Epoch [99/100]\n"
     ]
    },
    {
     "name": "stderr",
     "output_type": "stream",
     "text": [
      "Training: 100%|██████████| 6/6 [00:00<00:00, 39.42it/s]\n"
     ]
    },
    {
     "name": "stdout",
     "output_type": "stream",
     "text": [
      "Train Emotion Loss: 1.6936, Train Accuracy: 0.2872\n"
     ]
    },
    {
     "name": "stderr",
     "output_type": "stream",
     "text": [
      "Validating: 100%|██████████| 2/2 [00:00<00:00, 144.42it/s]\n"
     ]
    },
    {
     "name": "stdout",
     "output_type": "stream",
     "text": [
      "Val Emotion Loss: 1.6398, Val Accuracy: 0.4468\n",
      "Epoch [100/100]\n"
     ]
    },
    {
     "name": "stderr",
     "output_type": "stream",
     "text": [
      "Training: 100%|██████████| 6/6 [00:00<00:00, 42.01it/s]\n"
     ]
    },
    {
     "name": "stdout",
     "output_type": "stream",
     "text": [
      "Train Emotion Loss: 1.6928, Train Accuracy: 0.2872\n"
     ]
    },
    {
     "name": "stderr",
     "output_type": "stream",
     "text": [
      "Validating: 100%|██████████| 2/2 [00:00<00:00, 201.55it/s]"
     ]
    },
    {
     "name": "stdout",
     "output_type": "stream",
     "text": [
      "Val Emotion Loss: 1.6384, Val Accuracy: 0.4468\n",
      "Training finished!\n"
     ]
    },
    {
     "name": "stderr",
     "output_type": "stream",
     "text": [
      "\n"
     ]
    }
   ],
   "source": [
    "import torch\n",
    "from torch.utils.data import DataLoader\n",
    "\n",
    "# Custom collate function for padding MFCC features\n",
    "def pad_collate_fn(batch):\n",
    "    mfccs = [item[0] for item in batch]\n",
    "    labels = [item[1] for item in batch]\n",
    "\n",
    "    # Find the maximum length of MFCC sequences (time steps) in this batch\n",
    "    max_len = max([mfcc.shape[1] for mfcc in mfccs])\n",
    "\n",
    "    # Ensure all MFCCs have consistent time steps\n",
    "    padded_mfccs = [torch.nn.functional.pad(mfcc, (0, max_len - mfcc.shape[1])) for mfcc in mfccs]\n",
    "\n",
    "    # Stack tensors into a batch\n",
    "    mfcc_tensor = torch.stack(padded_mfccs)\n",
    "\n",
    "    # Ensure mfcc_tensor is of shape (batch_size, time_steps, input_dim)\n",
    " # Debugging: Check the shape of mfcc_tensor after padding\n",
    "\n",
    "    # Prepare label tensor\n",
    "    label_tensor = torch.tensor(labels, dtype=torch.long)\n",
    "\n",
    "    return mfcc_tensor, label_tensor\n",
    "\n",
    "mfcc_train, mfcc_test, emotion_train, emotion_test = load_data()\n",
    "# Define a mapping from old labels to new labels\n",
    "label_mapping = {0: 0, 2: 1, 3: 2, 4: 3, 5: 4, 6: 5}\n",
    "\n",
    "emotion_train = [label_mapping[label] for label in emotion_train]\n",
    "emotion_test = [label_mapping[label] for label in emotion_test]\n",
    "\n",
    "train_dataset = IEMOCAPDataset(mfcc_train, emotion_train)\n",
    "test_dataset = IEMOCAPDataset(mfcc_test, emotion_test)\n",
    "train_loader = DataLoader(train_dataset, batch_size=32, shuffle=True, collate_fn=pad_collate_fn)\n",
    "test_loader = DataLoader(test_dataset, batch_size=32, shuffle=False, collate_fn=pad_collate_fn)\n",
    "\n",
    "model = build_model(input_dim=13)  \n",
    "train_model(model, train_loader, test_loader)\n"
   ]
  }
 ],
 "metadata": {
  "kernelspec": {
   "display_name": "dvs",
   "language": "python",
   "name": "python3"
  },
  "language_info": {
   "codemirror_mode": {
    "name": "ipython",
    "version": 3
   },
   "file_extension": ".py",
   "mimetype": "text/x-python",
   "name": "python",
   "nbconvert_exporter": "python",
   "pygments_lexer": "ipython3",
   "version": "3.12.4"
  }
 },
 "nbformat": 4,
 "nbformat_minor": 2
}
